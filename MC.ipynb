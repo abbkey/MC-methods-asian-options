{
  "nbformat": 4,
  "nbformat_minor": 0,
  "metadata": {
    "colab": {
      "provenance": []
    },
    "kernelspec": {
      "name": "python3",
      "display_name": "Python 3"
    },
    "language_info": {
      "name": "python"
    }
  },
  "cells": [
    {
      "cell_type": "code",
      "source": [
        "import numpy as np\n",
        "from scipy.stats import norm # to get the cumulative standard normal distribution\n",
        "import matplotlib.pyplot as plt"
      ],
      "metadata": {
        "id": "MYMNS3OmTzDa"
      },
      "execution_count": 22,
      "outputs": []
    },
    {
      "cell_type": "code",
      "source": [
        "def fixed_call(a):\n",
        "  return np.maximum(a-K, 0)\n",
        "\n",
        "def scheme(n,N,dt,r,sigma,T,X0,K): \n",
        "\n",
        "  BM = np.zeros((n,N+1)) # simulation of the B-M \n",
        "  int_W = np.zeros((n,N)) # the integral of W_t - W_ti\n",
        "  inc_W = np.zeros((n,N)) # increment of B-M\n",
        "  X = np.zeros((n,N+1)) # the underlying risky asset\n",
        "  X[:,0] = X0\n",
        "\n",
        "  for i in range(N):\n",
        "    Z = np.random.randn(n)\n",
        "    Z_ = np.random.randn(n)\n",
        "    BM[:,i+1] = BM[:,i] + np.sqrt(dt)*Z \n",
        "    inc_W[:,i] = np.sqrt(dt)*Z # increment of B-M between ti and ti+1\n",
        "    X[:,i+1] = X[:,i]*np.exp(sigma*inc_W[:,i] + (r-0.5*sigma**2)*dt)\n",
        "    int_W[:,i] = 0.5*dt*inc_W[:,i] + np.sqrt((dt**3)/12)*Z_ # the integral of W_t - W_ti between ti and ti+1 that is distributed as a N((W_ti+1-W_ti)*h/2 , h**3/12)\n",
        "\n",
        "  return BM, inc_W, X, int_W"
      ],
      "metadata": {
        "id": "B6Cy0y7Dkq06"
      },
      "execution_count": 20,
      "outputs": []
    },
    {
      "cell_type": "code",
      "source": [
        "r, sigma, T, X0, K = 0.1, 0.2, 1, 100, 100  # the 'exact' price of an asian call as given by B. Bouchard for these values is 7.04\n",
        "N = 50 # discretization\n",
        "dt = T/N\n",
        "n = 10**5 # mc simulation\n",
        "S = scheme(n,N,dt,r,sigma,T,X0,K) "
      ],
      "metadata": {
        "id": "SN8gVxWU62Ct"
      },
      "execution_count": 8,
      "outputs": []
    },
    {
      "cell_type": "markdown",
      "source": [
        "# Standard schemes :"
      ],
      "metadata": {
        "id": "4Faw7GgFaje2"
      }
    },
    {
      "cell_type": "markdown",
      "source": [
        "###Euler (i.e. Riemann Sum)"
      ],
      "metadata": {
        "id": "nI8pmOT1a3X_"
      }
    },
    {
      "cell_type": "code",
      "source": [
        "def euler(scheme): \n",
        "  X = scheme[2]\n",
        "  A = (dt/T)*np.sum(X[:,:-1], axis=1) \n",
        "  V = np.exp(-r*T)*fixed_call(A)\n",
        "  p,s = np.mean(V), np.std(V)\n",
        "  return p,s\n",
        "\n",
        "p,s = euler(S)\n",
        "\n",
        "print(\"Real value:\", 7.04)\n",
        "print(\"Estimator:\", p)\n",
        "print(\"Standard deviation:\",s/np.sqrt(n))\n",
        "print(\"Confidence interval 95%:\",[p-(1.96*s)/np.sqrt(n), p+(1.96*s)/np.sqrt(n)])\n",
        "print(\"Error:\",100*1.96*s/(p*np.sqrt(n)),\"%\")"
      ],
      "metadata": {
        "colab": {
          "base_uri": "https://localhost:8080/"
        },
        "id": "NFefh3DmZvf5",
        "outputId": "58b23d13-f90f-4dc1-a9bb-35ee98ba5ff3"
      },
      "execution_count": 9,
      "outputs": [
        {
          "output_type": "stream",
          "name": "stdout",
          "text": [
            "Real value: 7.04\n",
            "Estimator: 6.91638104499745\n",
            "Standard deviation: 0.026552405207867495\n",
            "Confidence interval 95%: [6.864338330790029, 6.96842375920487]\n",
            "Error: 0.7524558561599534 %\n"
          ]
        }
      ]
    },
    {
      "cell_type": "markdown",
      "source": [
        "###Trapezoidal"
      ],
      "metadata": {
        "id": "aVifHVyLtpe5"
      }
    },
    {
      "cell_type": "code",
      "source": [
        "def trapezoidal(scheme):\n",
        "  X = scheme[2]\n",
        "  A = (dt/T)*np.sum(X[:,:-1] + X[:,1:], axis=1)/2\n",
        "  V = np.exp(-r*T)*fixed_call(A)\n",
        "  p,s = np.mean(V), np.std(V)\n",
        "  return p,s\n",
        "\n",
        "p,s = trapezoidal(S)\n",
        "\n",
        "print(\"Real value:\", 7.04)\n",
        "print(\"Estimator:\", p)\n",
        "print(\"Standard deviation:\",s/np.sqrt(n))\n",
        "print(\"Confidence interval 95%:\",[p-(1.96*s)/np.sqrt(n), p+(1.96*s)/np.sqrt(n)])\n",
        "print(\"Error:\",100*1.96*s/(p*np.sqrt(n)),\"%\")"
      ],
      "metadata": {
        "colab": {
          "base_uri": "https://localhost:8080/"
        },
        "id": "qRgMwhmRpcfv",
        "outputId": "2e520b5b-a126-4e52-e1f9-57a6e825f2b6"
      },
      "execution_count": 10,
      "outputs": [
        {
          "output_type": "stream",
          "name": "stdout",
          "text": [
            "Real value: 7.04\n",
            "Estimator: 7.03943064753045\n",
            "Standard deviation: 0.027002695913256502\n",
            "Confidence interval 95%: [6.986505363540467, 7.092355931520433]\n",
            "Error: 0.7518404064190876 %\n"
          ]
        }
      ]
    },
    {
      "cell_type": "markdown",
      "source": [
        "###Trapezoidal with a Taylor expansion"
      ],
      "metadata": {
        "id": "p-AmOk32M6CT"
      }
    },
    {
      "cell_type": "code",
      "source": [
        "def eq_trapezoidal(scheme):\n",
        "  inc_W, X = scheme[1], scheme[2]\n",
        "  taylor_expansion = X[:,:-1]*(1 + r*dt*0.5 + sigma*0.5*inc_W)\n",
        "  A = (dt/T)*np.sum(taylor_expansion, axis=1)\n",
        "  V = np.exp(-r*T)*fixed_call(A)\n",
        "  p,s = np.mean(V), np.std(V)\n",
        "  return p,s\n",
        "\n",
        "p,s = eq_trapezoidal(S)\n",
        "\n",
        "print(\"Real value:\", 7.04)\n",
        "print(\"Estimator:\", p)\n",
        "print(\"Standard deviation:\",s/np.sqrt(n))\n",
        "print(\"Confidence interval 95%:\",[p-(1.96*s)/np.sqrt(n), p+(1.96*s)/np.sqrt(n)])\n",
        "print(\"Error:\",100*1.96*s/(p*np.sqrt(n)),\"%\")"
      ],
      "metadata": {
        "colab": {
          "base_uri": "https://localhost:8080/"
        },
        "id": "PIUAQHj8MA2I",
        "outputId": "9255767b-a27d-426e-c9b7-cb3ce2507496"
      },
      "execution_count": 11,
      "outputs": [
        {
          "output_type": "stream",
          "name": "stdout",
          "text": [
            "Real value: 7.04\n",
            "Estimator: 7.039313389567919\n",
            "Standard deviation: 0.02700104166090436\n",
            "Confidence interval 95%: [6.986391347912547, 7.092235431223291]\n",
            "Error: 0.7518068698831003 %\n"
          ]
        }
      ]
    },
    {
      "cell_type": "markdown",
      "source": [
        "#Higher accuracy schemes :"
      ],
      "metadata": {
        "id": "oK4YVvjbvvAf"
      }
    },
    {
      "cell_type": "markdown",
      "source": [
        "### Scheme with a developpement under the B-S model"
      ],
      "metadata": {
        "id": "uceWrHUHwWNp"
      }
    },
    {
      "cell_type": "code",
      "source": [
        "def dl_bs(scheme):\n",
        "  X, int_W = scheme[2], scheme[3]\n",
        "  taylor_expansion = X[:,:-1]*(dt + 0.5*r*dt**2 + sigma*int_W)\n",
        "  A = (1/T)*np.sum(taylor_expansion, axis=1)\n",
        "  V = np.exp(-r*T)*fixed_call(A)\n",
        "  p,s = np.mean(V), np.std(V)\n",
        "  return p,s\n",
        "\n",
        "p,s = dl_bs(S)\n",
        "\n",
        "print(\"Real value:\", 7.04)\n",
        "print(\"Estimator:\", p)\n",
        "print(\"Standard deviation:\",s/np.sqrt(n))\n",
        "print(\"Confidence interval 95%:\",[p-(1.96*s)/np.sqrt(n), p+(1.96*s)/np.sqrt(n)])\n",
        "print(\"Error:\",100*1.96*s/(p*np.sqrt(n)),\"%\")"
      ],
      "metadata": {
        "id": "EPYBfkQRvznR",
        "colab": {
          "base_uri": "https://localhost:8080/"
        },
        "outputId": "8c5ec0f6-4a2d-403b-949a-79f46ba0f616"
      },
      "execution_count": 12,
      "outputs": [
        {
          "output_type": "stream",
          "name": "stdout",
          "text": [
            "Real value: 7.04\n",
            "Estimator: 7.038712650803664\n",
            "Standard deviation: 0.027000289101191212\n",
            "Confidence interval 95%: [6.985792084165329, 7.0916332174419985]\n",
            "Error: 0.7518500791802096 %\n"
          ]
        }
      ]
    },
    {
      "cell_type": "markdown",
      "source": [
        "#Variance reduction :"
      ],
      "metadata": {
        "id": "oZqK04y7zDtP"
      }
    },
    {
      "cell_type": "markdown",
      "source": [
        "### Expectation of the control variable"
      ],
      "metadata": {
        "id": "4gC79Aw109vA"
      }
    },
    {
      "cell_type": "code",
      "source": [
        "d_ = 0.5*(r-(sigma**2)/6)*T\n",
        "d = (np.log(X0/K) + 0.5*(r+(sigma**2)/6)*T) / (sigma*np.sqrt(T/3)) \n",
        "expectation = np.exp(-r*T)*(X0*norm.cdf(d)*np.exp(d_) - K*norm.cdf(d-sigma*np.sqrt(T/3))) # (discounted) expextation of the control variable "
      ],
      "metadata": {
        "id": "RT2XKJ7sIPcG"
      },
      "execution_count": 13,
      "outputs": []
    },
    {
      "cell_type": "markdown",
      "source": [
        "### Euler"
      ],
      "metadata": {
        "id": "H9O3QZSi0yof"
      }
    },
    {
      "cell_type": "code",
      "source": [
        "def euler_vr(scheme): \n",
        "  W = scheme[0]\n",
        "  X = scheme[2]\n",
        "  Z = X0*np.exp( (r-(sigma**2)/2)*T/2 + (sigma/T)*dt*np.sum(W[:,:-1], axis=1) ) # control variable\n",
        "  A = (dt/T)*np.sum(X[:,:-1], axis=1)  \n",
        "  V = np.exp(-r*T)*(fixed_call(A) - fixed_call(Z))\n",
        "  p,s = np.mean(V) + expectation , np.std(V)\n",
        "  return p,s\n",
        "\n",
        "p,s = euler_vr(S)\n",
        "\n",
        "print(\"Real value:\", 7.04)\n",
        "print(\"Estimator:\", p)\n",
        "print(\"Standard deviation:\",s/np.sqrt(n))\n",
        "print(\"Confidence interval 95%:\",[p-(1.96*s)/np.sqrt(n), p+(1.96*s)/np.sqrt(n)])\n",
        "print(\"Error:\",100*1.96*s/(p*np.sqrt(n)),\"%\")"
      ],
      "metadata": {
        "colab": {
          "base_uri": "https://localhost:8080/"
        },
        "outputId": "75e80d4f-4547-4ba7-9612-707c67e485c6",
        "id": "Cao8lTDWF55G"
      },
      "execution_count": 14,
      "outputs": [
        {
          "output_type": "stream",
          "name": "stdout",
          "text": [
            "Real value: 7.04\n",
            "Estimator: 6.988375517059082\n",
            "Standard deviation: 0.0012001996636765982\n",
            "Confidence interval 95%: [6.986023125718276, 6.990727908399888]\n",
            "Error: 0.033661490214196295 %\n"
          ]
        }
      ]
    },
    {
      "cell_type": "markdown",
      "source": [
        "### Trapezoidal"
      ],
      "metadata": {
        "id": "v9-eCoDi03iY"
      }
    },
    {
      "cell_type": "code",
      "source": [
        "def trapezoidal_vr(scheme):\n",
        "  X, W = scheme[2], scheme[0]\n",
        "  Z = X0*np.exp( (r-(sigma**2)/2)*T/2 + (sigma/T)*dt*0.5*np.sum(W[:,:-1]+W[:,1:], axis=1) ) # Control variable\n",
        "  A = (dt/T)*np.sum(X[:,:-1] + X[:,1:], axis=1)/2\n",
        "  V = np.exp(-r*T)*(fixed_call(A) - fixed_call(Z))\n",
        "  p,s = np.mean(V) + expectation , np.std(V)\n",
        "  return p,s\n",
        "\n",
        "p,s = trapezoidal_vr(S)\n",
        "\n",
        "print(\"Real value:\", 7.04)\n",
        "print(\"Estimator:\", p)\n",
        "print(\"Standard deviation:\",s/np.sqrt(n))\n",
        "print(\"Confidence interval 95%:\",[p-(1.96*s)/np.sqrt(n), p+(1.96*s)/np.sqrt(n)])\n",
        "print(\"Error:\",100*1.96*s/(p*np.sqrt(n)),\"%\")"
      ],
      "metadata": {
        "colab": {
          "base_uri": "https://localhost:8080/"
        },
        "id": "9-pHPYPzT7zV",
        "outputId": "48a70b36-b8bc-45fd-90f7-90655806bf02"
      },
      "execution_count": 15,
      "outputs": [
        {
          "output_type": "stream",
          "name": "stdout",
          "text": [
            "Real value: 7.04\n",
            "Estimator: 7.040328608710973\n",
            "Standard deviation: 0.0012694754823706956\n",
            "Confidence interval 95%: [7.037840436765526, 7.04281678065642]\n",
            "Error: 0.0353417018399959 %\n"
          ]
        }
      ]
    },
    {
      "cell_type": "markdown",
      "source": [
        "### Trapezoidal with a Taylor expansion"
      ],
      "metadata": {
        "id": "udrzP2ys1D03"
      }
    },
    {
      "cell_type": "code",
      "source": [
        "def eq_trapezoidal_vr(scheme):\n",
        "  inc_W, X, W = scheme[1], scheme[2], scheme[0]\n",
        "  Z = X0*np.exp( (r-(sigma**2)/2)*T/2 + (sigma/T)*dt*0.5*np.sum(W[:,:-1]+W[:,1:], axis=1) ) # Control variable\n",
        "  taylor_expansion = X[:,:-1]*(1 + r*dt*0.5 + sigma*0.5*inc_W)\n",
        "  A = (dt/T)*np.sum(taylor_expansion, axis=1)\n",
        "  V = np.exp(-r*T)*(fixed_call(A) - fixed_call(Z))\n",
        "  p,s = np.mean(V) + expectation , np.std(V)\n",
        "  return p,s\n",
        "\n",
        "p,s = eq_trapezoidal_vr(S)\n",
        "\n",
        "print(\"Real value:\", 7.04)\n",
        "print(\"Estimator:\", p)\n",
        "print(\"Standard deviation:\",s/np.sqrt(n))\n",
        "print(\"Confidence interval 95%:\",[p-(1.96*s)/np.sqrt(n), p+(1.96*s)/np.sqrt(n)])\n",
        "print(\"Error:\",100*1.96*s/(p*np.sqrt(n)),\"%\")"
      ],
      "metadata": {
        "colab": {
          "base_uri": "https://localhost:8080/"
        },
        "id": "sBUIrL7nOuQG",
        "outputId": "1af98a1b-54bb-45b7-bfc9-69f6fb8a4b36"
      },
      "execution_count": 16,
      "outputs": [
        {
          "output_type": "stream",
          "name": "stdout",
          "text": [
            "Real value: 7.04\n",
            "Estimator: 7.040211350748441\n",
            "Standard deviation: 0.0012671167936156135\n",
            "Confidence interval 95%: [7.037727801832955, 7.042694899663927]\n",
            "Error: 0.0352766244045014 %\n"
          ]
        }
      ]
    },
    {
      "cell_type": "markdown",
      "source": [
        "### Scheme with a developpement under the B-S model"
      ],
      "metadata": {
        "id": "SNUhpnn51MCT"
      }
    },
    {
      "cell_type": "code",
      "source": [
        "def dl_bs_vr(scheme):\n",
        "  X, int_W, W = scheme[2], scheme[3], scheme[0]\n",
        "  int_BM = int_W + W[:,:-1]*dt # integral of W on t_i t_i+1\n",
        "  Z = X0*np.exp( (r-(sigma**2)/2)*T/2 + (sigma/T)*np.sum(int_BM, axis=1) ) # Control variable\n",
        "  taylor_expansion = X[:,:-1]*(dt + 0.5*r*dt**2 + sigma*int_W)\n",
        "  A = (1/T)*np.sum(taylor_expansion, axis=1)\n",
        "  V = np.exp(-r*T)*(fixed_call(A) - fixed_call(Z))\n",
        "  p,s = np.mean(V) + expectation, np.std(V)\n",
        "  return p,s\n",
        "\n",
        "p,s = dl_bs_vr(S)\n",
        "\n",
        "print(\"Real value:\", 7.04)\n",
        "print(\"Estimator:\", p)\n",
        "print(\"Standard deviation:\",s/np.sqrt(n))\n",
        "print(\"Confidence interval 95%:\",[p-(1.96*s)/np.sqrt(n), p+(1.96*s)/np.sqrt(n)])\n",
        "print(\"Error:\",100*1.96*s/(p*np.sqrt(n)),\"%\")"
      ],
      "metadata": {
        "colab": {
          "base_uri": "https://localhost:8080/"
        },
        "id": "gVeOyddDUdwC",
        "outputId": "0a1072c7-7e52-425e-a6fe-e615f42217a2"
      },
      "execution_count": 17,
      "outputs": [
        {
          "output_type": "stream",
          "name": "stdout",
          "text": [
            "Real value: 7.04\n",
            "Estimator: 7.040156282613127\n",
            "Standard deviation: 0.0012675703627218018\n",
            "Confidence interval 95%: [7.037671844702192, 7.042640720524062]\n",
            "Error: 0.035289527834353296 %\n"
          ]
        }
      ]
    }
  ]
}